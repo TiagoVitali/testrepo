{
 "cells": [
  {
   "cell_type": "markdown",
   "id": "47566791-fdcc-4fff-9878-ebc0074c642f",
   "metadata": {},
   "source": [
    "# Data Science Tools and Ecosystem"
   ]
  },
  {
   "cell_type": "markdown",
   "id": "3c89c6c4-0f8d-4147-8e3e-fe2ca0a8f95e",
   "metadata": {},
   "source": [
    "## In this notebook, Data Science Tools and Ecosystem are summarized."
   ]
  },
  {
   "cell_type": "markdown",
   "id": "9dfe2b53-ca7f-4def-b4a8-5cabce8dbff3",
   "metadata": {},
   "source": [
    "**Objectives:**\n",
    "\n",
    "- List popular languages for Data Science;\n",
    "- List some of the most commonly used libraries by Data Scientist;\n",
    "- Convert 200 minutes to hours;\n",
    "- Train markdown in Jupyter;"
   ]
  },
  {
   "cell_type": "markdown",
   "id": "773962c7-19f4-46d5-8e40-d0b4228a99d4",
   "metadata": {},
   "source": [
    "## Some of the popular languages that Data Scientists use are:\n",
    "\n",
    "1. Python\n",
    "2. Julia\n",
    "3. Scala"
   ]
  },
  {
   "cell_type": "markdown",
   "id": "b036cc04-b44a-4a70-9945-036b150be275",
   "metadata": {},
   "source": [
    "## Some of the commonly used libraries used by Data Scientists include:\n",
    "\n",
    "1. Pandas\n",
    "2. Numpy\n",
    "3. scikit-learn"
   ]
  },
  {
   "cell_type": "markdown",
   "id": "21fafb0c-9a05-49c1-a7b4-be286654003d",
   "metadata": {},
   "source": [
    "| Data Science Tool |\n",
    "|-------------------|\n",
    "|Visual Studio Code |\n",
    "|Jupyter Lab        |\n",
    "|PyCharm            |"
   ]
  },
  {
   "cell_type": "markdown",
   "id": "2259db5c-1581-4d6c-b261-e559b8419e60",
   "metadata": {},
   "source": [
    "### Below are a few examples of evaluating arithmetic expressions in Python"
   ]
  },
  {
   "cell_type": "code",
   "execution_count": 1,
   "id": "e3ea22d7-4d85-4502-9949-d631f6b645c1",
   "metadata": {},
   "outputs": [
    {
     "data": {
      "text/plain": [
       "17"
      ]
     },
     "execution_count": 1,
     "metadata": {},
     "output_type": "execute_result"
    }
   ],
   "source": [
    "#This a simple arithmetic expression to mutiply then add integers\n",
    "\n",
    "(3*4)+5"
   ]
  },
  {
   "cell_type": "code",
   "execution_count": 2,
   "id": "a1c556eb-2101-4ceb-8025-187f23af3d8a",
   "metadata": {},
   "outputs": [
    {
     "data": {
      "text/plain": [
       "3.3333333333333335"
      ]
     },
     "execution_count": 2,
     "metadata": {},
     "output_type": "execute_result"
    }
   ],
   "source": [
    "#This will convert 200 minutes to hours by diving by 60\n",
    "\n",
    "200/60"
   ]
  },
  {
   "cell_type": "markdown",
   "id": "4ff56926-655a-4c76-a25a-4f0392825d8b",
   "metadata": {},
   "source": [
    "## Author\n",
    "\n",
    "Tiago Vitali"
   ]
  },
  {
   "cell_type": "code",
   "execution_count": null,
   "id": "f5aa112a-0ba5-4e4c-84e0-7168a8c8f814",
   "metadata": {},
   "outputs": [],
   "source": []
  }
 ],
 "metadata": {
  "kernelspec": {
   "display_name": "Python",
   "language": "python",
   "name": "conda-env-python-py"
  },
  "language_info": {
   "codemirror_mode": {
    "name": "ipython",
    "version": 3
   },
   "file_extension": ".py",
   "mimetype": "text/x-python",
   "name": "python",
   "nbconvert_exporter": "python",
   "pygments_lexer": "ipython3",
   "version": "3.7.12"
  }
 },
 "nbformat": 4,
 "nbformat_minor": 5
}
